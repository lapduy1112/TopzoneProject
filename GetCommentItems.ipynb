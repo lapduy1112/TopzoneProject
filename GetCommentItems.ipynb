{
 "cells": [
  {
   "cell_type": "code",
   "execution_count": 2,
   "id": "2f5a970c",
   "metadata": {},
   "outputs": [],
   "source": [
    "from selenium import webdriver\n",
    "from selenium.webdriver.chrome.service import Service\n",
    "service_obj=Service(r\"D:\\chromedriver_win32\\chromedriver.exe\")\n",
    "from selenium.webdriver.common.by import By\n",
    "import time\n",
    "import pandas as pd\n",
    "import numpy as np\n",
    "from selenium.common.exceptions import NoSuchElementException, ElementNotInteractableException"
   ]
  },
  {
   "cell_type": "code",
   "execution_count": 3,
   "id": "db1b8242",
   "metadata": {},
   "outputs": [],
   "source": [
    "driver=webdriver.Chrome(service=service_obj)"
   ]
  },
  {
   "cell_type": "code",
   "execution_count": 4,
   "id": "445e00df",
   "metadata": {},
   "outputs": [],
   "source": [
    "url='https://www.topzone.vn/iphone/iphone-14-pro-max-512gb'"
   ]
  },
  {
   "cell_type": "code",
   "execution_count": 5,
   "id": "a98259e9",
   "metadata": {},
   "outputs": [],
   "source": [
    "driver.get(url)"
   ]
  },
  {
   "cell_type": "code",
   "execution_count": 22,
   "id": "23e2a186",
   "metadata": {},
   "outputs": [],
   "source": [
    "nameComment_list=[]\n",
    "comment_list=[]\n",
    "rep_list=[]\n",
    "nameRep_list=[]"
   ]
  },
  {
   "cell_type": "code",
   "execution_count": 30,
   "id": "345b77a2",
   "metadata": {},
   "outputs": [
    {
     "ename": "NoSuchElementException",
     "evalue": "Message: no such element: Unable to locate element: {\"method\":\"xpath\",\"selector\":\"//a[normalize-space()=\"»\"]\"}\n  (Session info: chrome=114.0.5735.199); For documentation on this error, please visit: https://www.selenium.dev/documentation/webdriver/troubleshooting/errors#no-such-element-exception\nStacktrace:\nBacktrace:\n\tGetHandleVerifier [0x0120A813+48355]\n\t(No symbol) [0x0119C4B1]\n\t(No symbol) [0x010A5358]\n\t(No symbol) [0x010D09A5]\n\t(No symbol) [0x010D0B3B]\n\t(No symbol) [0x010FE232]\n\t(No symbol) [0x010EA784]\n\t(No symbol) [0x010FC922]\n\t(No symbol) [0x010EA536]\n\t(No symbol) [0x010C82DC]\n\t(No symbol) [0x010C93DD]\n\tGetHandleVerifier [0x0146AABD+2539405]\n\tGetHandleVerifier [0x014AA78F+2800735]\n\tGetHandleVerifier [0x014A456C+2775612]\n\tGetHandleVerifier [0x012951E0+616112]\n\t(No symbol) [0x011A5F8C]\n\t(No symbol) [0x011A2328]\n\t(No symbol) [0x011A240B]\n\t(No symbol) [0x01194FF7]\n\tBaseThreadInitThunk [0x75C400C9+25]\n\tRtlGetAppContainerNamedObjectPath [0x779D7B4E+286]\n\tRtlGetAppContainerNamedObjectPath [0x779D7B1E+238]\n",
     "output_type": "error",
     "traceback": [
      "\u001b[1;31m---------------------------------------------------------------------------\u001b[0m",
      "\u001b[1;31mNoSuchElementException\u001b[0m                    Traceback (most recent call last)",
      "Cell \u001b[1;32mIn[30], line 15\u001b[0m\n\u001b[0;32m     12\u001b[0m elems_repName\u001b[38;5;241m=\u001b[39mdriver\u001b[38;5;241m.\u001b[39mfind_elements(By\u001b[38;5;241m.\u001b[39mCSS_SELECTOR,\u001b[38;5;124m'\u001b[39m\u001b[38;5;124m.commentlist-sub .cmt-top\u001b[39m\u001b[38;5;124m'\u001b[39m)\n\u001b[0;32m     13\u001b[0m nameRep_list\u001b[38;5;241m=\u001b[39m[name\u001b[38;5;241m.\u001b[39mtext \u001b[38;5;28;01mfor\u001b[39;00m name \u001b[38;5;129;01min\u001b[39;00m elems_repName]\n\u001b[1;32m---> 15\u001b[0m next_pagination_cmt \u001b[38;5;241m=\u001b[39m \u001b[43mdriver\u001b[49m\u001b[38;5;241;43m.\u001b[39;49m\u001b[43mfind_element\u001b[49m\u001b[43m(\u001b[49m\u001b[43mBy\u001b[49m\u001b[38;5;241;43m.\u001b[39;49m\u001b[43mXPATH\u001b[49m\u001b[43m,\u001b[49m\u001b[43m \u001b[49m\u001b[38;5;124;43m'\u001b[39;49m\u001b[38;5;124;43m//a[normalize-space()=\u001b[39;49m\u001b[38;5;124;43m\"\u001b[39;49m\u001b[38;5;124;43m»\u001b[39;49m\u001b[38;5;124;43m\"\u001b[39;49m\u001b[38;5;124;43m]\u001b[39;49m\u001b[38;5;124;43m'\u001b[39;49m\u001b[43m)\u001b[49m\n\u001b[0;32m     16\u001b[0m next_pagination_cmt\u001b[38;5;241m.\u001b[39mclick()\n\u001b[0;32m     17\u001b[0m time\u001b[38;5;241m.\u001b[39msleep(\u001b[38;5;241m3\u001b[39m)\n",
      "File \u001b[1;32m~\\anaconda3\\lib\\site-packages\\selenium\\webdriver\\remote\\webdriver.py:740\u001b[0m, in \u001b[0;36mWebDriver.find_element\u001b[1;34m(self, by, value)\u001b[0m\n\u001b[0;32m    737\u001b[0m     by \u001b[38;5;241m=\u001b[39m By\u001b[38;5;241m.\u001b[39mCSS_SELECTOR\n\u001b[0;32m    738\u001b[0m     value \u001b[38;5;241m=\u001b[39m \u001b[38;5;124mf\u001b[39m\u001b[38;5;124m'\u001b[39m\u001b[38;5;124m[name=\u001b[39m\u001b[38;5;124m\"\u001b[39m\u001b[38;5;132;01m{\u001b[39;00mvalue\u001b[38;5;132;01m}\u001b[39;00m\u001b[38;5;124m\"\u001b[39m\u001b[38;5;124m]\u001b[39m\u001b[38;5;124m'\u001b[39m\n\u001b[1;32m--> 740\u001b[0m \u001b[38;5;28;01mreturn\u001b[39;00m \u001b[38;5;28;43mself\u001b[39;49m\u001b[38;5;241;43m.\u001b[39;49m\u001b[43mexecute\u001b[49m\u001b[43m(\u001b[49m\u001b[43mCommand\u001b[49m\u001b[38;5;241;43m.\u001b[39;49m\u001b[43mFIND_ELEMENT\u001b[49m\u001b[43m,\u001b[49m\u001b[43m \u001b[49m\u001b[43m{\u001b[49m\u001b[38;5;124;43m\"\u001b[39;49m\u001b[38;5;124;43musing\u001b[39;49m\u001b[38;5;124;43m\"\u001b[39;49m\u001b[43m:\u001b[49m\u001b[43m \u001b[49m\u001b[43mby\u001b[49m\u001b[43m,\u001b[49m\u001b[43m \u001b[49m\u001b[38;5;124;43m\"\u001b[39;49m\u001b[38;5;124;43mvalue\u001b[39;49m\u001b[38;5;124;43m\"\u001b[39;49m\u001b[43m:\u001b[49m\u001b[43m \u001b[49m\u001b[43mvalue\u001b[49m\u001b[43m}\u001b[49m\u001b[43m)\u001b[49m[\u001b[38;5;124m\"\u001b[39m\u001b[38;5;124mvalue\u001b[39m\u001b[38;5;124m\"\u001b[39m]\n",
      "File \u001b[1;32m~\\anaconda3\\lib\\site-packages\\selenium\\webdriver\\remote\\webdriver.py:346\u001b[0m, in \u001b[0;36mWebDriver.execute\u001b[1;34m(self, driver_command, params)\u001b[0m\n\u001b[0;32m    344\u001b[0m response \u001b[38;5;241m=\u001b[39m \u001b[38;5;28mself\u001b[39m\u001b[38;5;241m.\u001b[39mcommand_executor\u001b[38;5;241m.\u001b[39mexecute(driver_command, params)\n\u001b[0;32m    345\u001b[0m \u001b[38;5;28;01mif\u001b[39;00m response:\n\u001b[1;32m--> 346\u001b[0m     \u001b[38;5;28;43mself\u001b[39;49m\u001b[38;5;241;43m.\u001b[39;49m\u001b[43merror_handler\u001b[49m\u001b[38;5;241;43m.\u001b[39;49m\u001b[43mcheck_response\u001b[49m\u001b[43m(\u001b[49m\u001b[43mresponse\u001b[49m\u001b[43m)\u001b[49m\n\u001b[0;32m    347\u001b[0m     response[\u001b[38;5;124m\"\u001b[39m\u001b[38;5;124mvalue\u001b[39m\u001b[38;5;124m\"\u001b[39m] \u001b[38;5;241m=\u001b[39m \u001b[38;5;28mself\u001b[39m\u001b[38;5;241m.\u001b[39m_unwrap_value(response\u001b[38;5;241m.\u001b[39mget(\u001b[38;5;124m\"\u001b[39m\u001b[38;5;124mvalue\u001b[39m\u001b[38;5;124m\"\u001b[39m, \u001b[38;5;28;01mNone\u001b[39;00m))\n\u001b[0;32m    348\u001b[0m     \u001b[38;5;28;01mreturn\u001b[39;00m response\n",
      "File \u001b[1;32m~\\anaconda3\\lib\\site-packages\\selenium\\webdriver\\remote\\errorhandler.py:245\u001b[0m, in \u001b[0;36mErrorHandler.check_response\u001b[1;34m(self, response)\u001b[0m\n\u001b[0;32m    243\u001b[0m         alert_text \u001b[38;5;241m=\u001b[39m value[\u001b[38;5;124m\"\u001b[39m\u001b[38;5;124malert\u001b[39m\u001b[38;5;124m\"\u001b[39m]\u001b[38;5;241m.\u001b[39mget(\u001b[38;5;124m\"\u001b[39m\u001b[38;5;124mtext\u001b[39m\u001b[38;5;124m\"\u001b[39m)\n\u001b[0;32m    244\u001b[0m     \u001b[38;5;28;01mraise\u001b[39;00m exception_class(message, screen, stacktrace, alert_text)  \u001b[38;5;66;03m# type: ignore[call-arg]  # mypy is not smart enough here\u001b[39;00m\n\u001b[1;32m--> 245\u001b[0m \u001b[38;5;28;01mraise\u001b[39;00m exception_class(message, screen, stacktrace)\n",
      "\u001b[1;31mNoSuchElementException\u001b[0m: Message: no such element: Unable to locate element: {\"method\":\"xpath\",\"selector\":\"//a[normalize-space()=\"»\"]\"}\n  (Session info: chrome=114.0.5735.199); For documentation on this error, please visit: https://www.selenium.dev/documentation/webdriver/troubleshooting/errors#no-such-element-exception\nStacktrace:\nBacktrace:\n\tGetHandleVerifier [0x0120A813+48355]\n\t(No symbol) [0x0119C4B1]\n\t(No symbol) [0x010A5358]\n\t(No symbol) [0x010D09A5]\n\t(No symbol) [0x010D0B3B]\n\t(No symbol) [0x010FE232]\n\t(No symbol) [0x010EA784]\n\t(No symbol) [0x010FC922]\n\t(No symbol) [0x010EA536]\n\t(No symbol) [0x010C82DC]\n\t(No symbol) [0x010C93DD]\n\tGetHandleVerifier [0x0146AABD+2539405]\n\tGetHandleVerifier [0x014AA78F+2800735]\n\tGetHandleVerifier [0x014A456C+2775612]\n\tGetHandleVerifier [0x012951E0+616112]\n\t(No symbol) [0x011A5F8C]\n\t(No symbol) [0x011A2328]\n\t(No symbol) [0x011A240B]\n\t(No symbol) [0x01194FF7]\n\tBaseThreadInitThunk [0x75C400C9+25]\n\tRtlGetAppContainerNamedObjectPath [0x779D7B4E+286]\n\tRtlGetAppContainerNamedObjectPath [0x779D7B1E+238]\n"
     ]
    }
   ],
   "source": [
    "while True:\n",
    "    try:\n",
    "        elems_countComment=driver.find_elements(By.CSS_SELECTOR,'.no-border.item .cmt-content')\n",
    "        comment_list=[elem.text for elem in elems_countComment]\n",
    "\n",
    "        elems_commentName=driver.find_elements(By.CSS_SELECTOR,'.no-border .cmt-top-name ')\n",
    "        nameComment_list=[name.text for name in elems_commentName]\n",
    "\n",
    "        elems_countRep=driver.find_elements(By.CSS_SELECTOR,'.commentlist-sub .cmt-txt')\n",
    "        rep_list=[rep.text for rep in elems_countRep]\n",
    "\n",
    "        elems_repName=driver.find_elements(By.CSS_SELECTOR,'.commentlist-sub .cmt-top')\n",
    "        nameRep_list=[name.text for name in elems_repName]\n",
    "        \n",
    "\n",
    "        try:\n",
    "            next_pagination_cmt = driver.find_element(By.XPATH, '//a[normalize-space()=\"»\"]')\n",
    "            next_pagination_cmt.click()\n",
    "            time.sleep(2)\n",
    "        time.sleep(3)\n",
    "    except ElementNotInteractableException:\n",
    "        break"
   ]
  }
 ],
 "metadata": {
  "kernelspec": {
   "display_name": "Python 3 (ipykernel)",
   "language": "python",
   "name": "python3"
  },
  "language_info": {
   "codemirror_mode": {
    "name": "ipython",
    "version": 3
   },
   "file_extension": ".py",
   "mimetype": "text/x-python",
   "name": "python",
   "nbconvert_exporter": "python",
   "pygments_lexer": "ipython3",
   "version": "3.10.9"
  }
 },
 "nbformat": 4,
 "nbformat_minor": 5
}
